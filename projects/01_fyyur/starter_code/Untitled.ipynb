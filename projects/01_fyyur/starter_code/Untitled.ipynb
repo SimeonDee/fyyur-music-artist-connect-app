{
 "cells": [
  {
   "cell_type": "code",
   "execution_count": 5,
   "metadata": {},
   "outputs": [
    {
     "name": "stdout",
     "output_type": "stream",
     "text": [
      "/Users/Air/opt/anaconda3/lib/python3.8/site-packages/flask_sqlalchemy/__init__.py:833: FSADeprecationWarning: SQLALCHEMY_TRACK_MODIFICATIONS adds significant overhead and will be disabled by default in the future.  Set it to True or False to suppress this warning.\n",
      "  warnings.warn(FSADeprecationWarning(\n",
      " * Serving Flask app \"app\" (lazy loading)\n",
      " * Environment: production\n",
      "\u001b[31m   WARNING: This is a development server. Do not use it in a production deployment.\u001b[0m\n",
      "\u001b[2m   Use a production WSGI server instead.\u001b[0m\n",
      " * Debug mode: on\n",
      " * Running on http://127.0.0.1:5000/ (Press CTRL+C to quit)\n",
      " * Restarting with fsevents reloader\n",
      "/Users/Air/opt/anaconda3/lib/python3.8/site-packages/flask_sqlalchemy/__init__.py:833: FSADeprecationWarning: SQLALCHEMY_TRACK_MODIFICATIONS adds significant overhead and will be disabled by default in the future.  Set it to True or False to suppress this warning.\n",
      "  warnings.warn(FSADeprecationWarning(\n",
      " * Debugger is active!\n",
      " * Debugger PIN: 136-292-031\n",
      "127.0.0.1 - - [01/Aug/2022 03:04:51] \"\u001b[37mGET / HTTP/1.1\u001b[0m\" 200 -\n",
      "127.0.0.1 - - [01/Aug/2022 03:04:51] \"\u001b[37mGET /static/css/main.quickfix.css HTTP/1.1\u001b[0m\" 200 -\n",
      "127.0.0.1 - - [01/Aug/2022 03:04:51] \"\u001b[37mGET /static/css/main.css HTTP/1.1\u001b[0m\" 200 -\n",
      "127.0.0.1 - - [01/Aug/2022 03:04:51] \"\u001b[37mGET /static/css/main.responsive.css HTTP/1.1\u001b[0m\" 200 -\n",
      "127.0.0.1 - - [01/Aug/2022 03:04:51] \"\u001b[37mGET /static/js/libs/modernizr-2.8.2.min.js HTTP/1.1\u001b[0m\" 200 -\n",
      "127.0.0.1 - - [01/Aug/2022 03:04:51] \"\u001b[37mGET /static/css/bootstrap.min.css HTTP/1.1\u001b[0m\" 200 -\n",
      "127.0.0.1 - - [01/Aug/2022 03:04:51] \"\u001b[37mGET /static/css/layout.main.css HTTP/1.1\u001b[0m\" 200 -\n",
      "127.0.0.1 - - [01/Aug/2022 03:04:51] \"\u001b[37mGET /static/js/libs/bootstrap-3.1.1.min.js HTTP/1.1\u001b[0m\" 200 -\n",
      "127.0.0.1 - - [01/Aug/2022 03:04:51] \"\u001b[37mGET /static/js/libs/moment.min.js HTTP/1.1\u001b[0m\" 200 -\n",
      "127.0.0.1 - - [01/Aug/2022 03:04:51] \"\u001b[37mGET /static/js/plugins.js HTTP/1.1\u001b[0m\" 200 -\n",
      "127.0.0.1 - - [01/Aug/2022 03:04:51] \"\u001b[37mGET /static/js/script.js HTTP/1.1\u001b[0m\" 200 -\n",
      "127.0.0.1 - - [01/Aug/2022 03:04:51] \"\u001b[37mGET /static/img/front-splash.jpg HTTP/1.1\u001b[0m\" 200 -\n",
      "127.0.0.1 - - [01/Aug/2022 03:04:53] \"\u001b[33mGET /static/ico/apple-touch-icon-144-precomposed.png HTTP/1.1\u001b[0m\" 404 -\n",
      "127.0.0.1 - - [01/Aug/2022 03:04:53] \"\u001b[33mGET /static/ico/favicon.png HTTP/1.1\u001b[0m\" 404 -\n",
      "127.0.0.1 - - [01/Aug/2022 03:04:53] \"\u001b[33mGET /static/ico/apple-touch-icon-114-precomposed.png HTTP/1.1\u001b[0m\" 404 -\n",
      "127.0.0.1 - - [01/Aug/2022 03:04:53] \"\u001b[33mGET /static/ico/apple-touch-icon-72-precomposed.png HTTP/1.1\u001b[0m\" 404 -\n",
      "127.0.0.1 - - [01/Aug/2022 03:04:53] \"\u001b[33mGET /static/ico/apple-touch-icon-57-precomposed.png HTTP/1.1\u001b[0m\" 404 -\n",
      "127.0.0.1 - - [01/Aug/2022 03:04:53] \"\u001b[33mGET /apple-touch-icon-precomposed.png HTTP/1.1\u001b[0m\" 404 -\n",
      "127.0.0.1 - - [01/Aug/2022 03:04:53] \"\u001b[33mGET /apple-touch-icon.png HTTP/1.1\u001b[0m\" 404 -\n",
      "127.0.0.1 - - [01/Aug/2022 03:05:03] \"\u001b[37mGET /venues HTTP/1.1\u001b[0m\" 200 -\n",
      "127.0.0.1 - - [01/Aug/2022 03:05:06] \"\u001b[37mGET /venues/1 HTTP/1.1\u001b[0m\" 200 -\n",
      "^C\n"
     ]
    }
   ],
   "source": [
    "!python3 app.py"
   ]
  },
  {
   "cell_type": "code",
   "execution_count": 2,
   "metadata": {},
   "outputs": [
    {
     "name": "stdout",
     "output_type": "stream",
     "text": [
      "Collecting flask-moment==0.11.0\n",
      "  Using cached Flask_Moment-0.11.0-py2.py3-none-any.whl (4.3 kB)\n",
      "Requirement already satisfied: Flask in /Users/Air/opt/anaconda3/lib/python3.8/site-packages (from flask-moment==0.11.0) (1.1.2)\n",
      "Requirement already satisfied: itsdangerous>=0.24 in /Users/Air/opt/anaconda3/lib/python3.8/site-packages (from Flask->flask-moment==0.11.0) (1.1.0)\n",
      "Requirement already satisfied: Jinja2>=2.10.1 in /Users/Air/opt/anaconda3/lib/python3.8/site-packages (from Flask->flask-moment==0.11.0) (2.11.2)\n",
      "Requirement already satisfied: click>=5.1 in /Users/Air/opt/anaconda3/lib/python3.8/site-packages (from Flask->flask-moment==0.11.0) (7.1.2)\n",
      "Requirement already satisfied: Werkzeug>=0.15 in /Users/Air/opt/anaconda3/lib/python3.8/site-packages (from Flask->flask-moment==0.11.0) (1.0.1)\n",
      "Requirement already satisfied: MarkupSafe>=0.23 in /Users/Air/opt/anaconda3/lib/python3.8/site-packages (from Jinja2>=2.10.1->Flask->flask-moment==0.11.0) (1.1.1)\n",
      "Installing collected packages: flask-moment\n",
      "Successfully installed flask-moment-0.11.0\n"
     ]
    }
   ],
   "source": [
    "!pip install flask-moment==0.11.0"
   ]
  },
  {
   "cell_type": "code",
   "execution_count": 4,
   "metadata": {},
   "outputs": [
    {
     "name": "stdout",
     "output_type": "stream",
     "text": [
      "Collecting babel==2.9.0\n",
      "  Using cached Babel-2.9.0-py2.py3-none-any.whl (8.8 MB)\n",
      "Collecting python-dateutil==2.6.0\n",
      "  Using cached python_dateutil-2.6.0-py2.py3-none-any.whl (194 kB)\n",
      "Requirement already satisfied: flask-moment==0.11.0 in /Users/Air/opt/anaconda3/lib/python3.8/site-packages (from -r requirements.txt (line 3)) (0.11.0)\n",
      "Collecting flask-wtf==0.14.3\n",
      "  Using cached Flask_WTF-0.14.3-py2.py3-none-any.whl (13 kB)\n",
      "Collecting flask_sqlalchemy==2.4.4\n",
      "  Using cached Flask_SQLAlchemy-2.4.4-py2.py3-none-any.whl (17 kB)\n",
      "Requirement already satisfied: pytz>=2015.7 in /Users/Air/opt/anaconda3/lib/python3.8/site-packages (from babel==2.9.0->-r requirements.txt (line 1)) (2020.1)\n",
      "Requirement already satisfied: six>=1.5 in /Users/Air/opt/anaconda3/lib/python3.8/site-packages (from python-dateutil==2.6.0->-r requirements.txt (line 2)) (1.15.0)\n",
      "Requirement already satisfied: Flask in /Users/Air/opt/anaconda3/lib/python3.8/site-packages (from flask-moment==0.11.0->-r requirements.txt (line 3)) (1.1.2)\n",
      "Collecting WTForms\n",
      "  Using cached WTForms-3.0.1-py3-none-any.whl (136 kB)\n",
      "Requirement already satisfied: itsdangerous in /Users/Air/opt/anaconda3/lib/python3.8/site-packages (from flask-wtf==0.14.3->-r requirements.txt (line 4)) (1.1.0)\n",
      "Requirement already satisfied: SQLAlchemy>=0.8.0 in /Users/Air/opt/anaconda3/lib/python3.8/site-packages (from flask_sqlalchemy==2.4.4->-r requirements.txt (line 5)) (1.3.20)\n",
      "Requirement already satisfied: Werkzeug>=0.15 in /Users/Air/opt/anaconda3/lib/python3.8/site-packages (from Flask->flask-moment==0.11.0->-r requirements.txt (line 3)) (1.0.1)\n",
      "Requirement already satisfied: Jinja2>=2.10.1 in /Users/Air/opt/anaconda3/lib/python3.8/site-packages (from Flask->flask-moment==0.11.0->-r requirements.txt (line 3)) (2.11.2)\n",
      "Requirement already satisfied: click>=5.1 in /Users/Air/opt/anaconda3/lib/python3.8/site-packages (from Flask->flask-moment==0.11.0->-r requirements.txt (line 3)) (7.1.2)\n",
      "Requirement already satisfied: MarkupSafe in /Users/Air/opt/anaconda3/lib/python3.8/site-packages (from WTForms->flask-wtf==0.14.3->-r requirements.txt (line 4)) (1.1.1)\n",
      "Installing collected packages: WTForms, python-dateutil, babel, flask-wtf, flask_sqlalchemy\n",
      "  Attempting uninstall: python-dateutil\n",
      "    Found existing installation: python-dateutil 2.8.1\n",
      "    Uninstalling python-dateutil-2.8.1:\n",
      "      Successfully uninstalled python-dateutil-2.8.1\n",
      "  Attempting uninstall: babel\n",
      "    Found existing installation: Babel 2.8.1\n",
      "    Uninstalling Babel-2.8.1:\n",
      "      Successfully uninstalled Babel-2.8.1\n",
      "  Attempting uninstall: flask_sqlalchemy\n",
      "    Found existing installation: Flask-SQLAlchemy 2.5.1\n",
      "    Uninstalling Flask-SQLAlchemy-2.5.1:\n",
      "      Successfully uninstalled Flask-SQLAlchemy-2.5.1\n",
      "\u001b[31mERROR: pip's dependency resolver does not currently take into account all the packages that are installed. This behaviour is the source of the following dependency conflicts.\n",
      "pandas 1.1.3 requires python-dateutil>=2.7.3, but you have python-dateutil 2.6.0 which is incompatible.\n",
      "anaconda-client 1.7.2 requires python-dateutil>=2.6.1, but you have python-dateutil 2.6.0 which is incompatible.\u001b[0m\u001b[31m\n",
      "\u001b[0mSuccessfully installed WTForms-3.0.1 babel-2.9.0 flask-wtf-0.14.3 flask_sqlalchemy-2.4.4 python-dateutil-2.6.0\n"
     ]
    }
   ],
   "source": [
    "!pip install -r requirements.txt"
   ]
  },
  {
   "cell_type": "code",
   "execution_count": null,
   "metadata": {},
   "outputs": [],
   "source": []
  }
 ],
 "metadata": {
  "kernelspec": {
   "display_name": "Python 3",
   "language": "python",
   "name": "python3"
  },
  "language_info": {
   "codemirror_mode": {
    "name": "ipython",
    "version": 3
   },
   "file_extension": ".py",
   "mimetype": "text/x-python",
   "name": "python",
   "nbconvert_exporter": "python",
   "pygments_lexer": "ipython3",
   "version": "3.8.5"
  }
 },
 "nbformat": 4,
 "nbformat_minor": 4
}
